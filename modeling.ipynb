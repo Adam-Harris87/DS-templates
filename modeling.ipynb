{
 "cells": [
  {
   "cell_type": "markdown",
   "id": "0602d9f3",
   "metadata": {},
   "source": [
    "<a id=\"TableOfContents\"></a>\n",
    "    <h1 style='text-align: center'>\n",
    "        <b>\n",
    "            Table of Contents:\n",
    "        </b></h1>\n",
    "<li><a href='#imports'>Imports</a></li>\n",
    "<li><a href=\"#feature_selection\">Feature Selection</a></li>"
   ]
  },
  {
   "cell_type": "markdown",
   "id": "1b287cf6",
   "metadata": {},
   "source": [
    "<a id=\"imports\"></a>\n",
    "    <h1 style='text-align: center'>\n",
    "        <b>\n",
    "            Imports\n",
    "        </b></h1>\n",
    "<li><a href='#TableOfContents'>Table of Contents</a></li>"
   ]
  },
  {
   "cell_type": "code",
   "execution_count": 1,
   "id": "787a7613",
   "metadata": {},
   "outputs": [],
   "source": [
    "import numpy as np\n",
    "import pandas as pd\n"
   ]
  },
  {
   "cell_type": "code",
   "execution_count": null,
   "id": "d13dc5af",
   "metadata": {},
   "outputs": [],
   "source": []
  },
  {
   "cell_type": "markdown",
   "id": "06ccfb12",
   "metadata": {},
   "source": [
    "<a id=\"feature_selection\"></a>\n",
    "    <h1 style='text-align: center'>\n",
    "        <b>\n",
    "            Feature Selection\n",
    "        </b></h1>\n",
    "<li><a href='#TableOfContents'>Table of Contents</a></li>"
   ]
  },
  {
   "cell_type": "markdown",
   "id": "168ddba4",
   "metadata": {},
   "source": [
    "get modeling datasets"
   ]
  },
  {
   "cell_type": "code",
   "execution_count": null,
   "id": "8d9b006f",
   "metadata": {},
   "outputs": [],
   "source": [
    "def get_x_y_train_val_test(train, validate, test, x_cols, y_col):\n",
    "    '''\n",
    "    This function will return datasets with the desired features for modeling\n",
    "    X_train, y_train, X_validate, y_validate, X_test and y_test\n",
    "    '''\n",
    "    # drop and split train data\n",
    "    X_train = train[x_cols]\n",
    "    y_train= train[y_col]\n",
    "    # drop and split validate data\n",
    "    X_validate = validate[x_cols]\n",
    "    y_validate = validate[y_col]\n",
    "    # Drop and split test data \n",
    "    X_test = test[x_cols]\n",
    "    y_test = test[y_col]\n",
    "    # return the new X and y datasets\n",
    "    return X_train, y_train, X_validate, y_validate, X_test, y_test"
   ]
  }
 ],
 "metadata": {
  "kernelspec": {
   "display_name": "Python 3 (ipykernel)",
   "language": "python",
   "name": "python3"
  },
  "language_info": {
   "codemirror_mode": {
    "name": "ipython",
    "version": 3
   },
   "file_extension": ".py",
   "mimetype": "text/x-python",
   "name": "python",
   "nbconvert_exporter": "python",
   "pygments_lexer": "ipython3",
   "version": "3.9.13"
  }
 },
 "nbformat": 4,
 "nbformat_minor": 5
}
