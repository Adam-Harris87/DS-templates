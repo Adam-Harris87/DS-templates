{
 "cells": [
  {
   "cell_type": "code",
   "execution_count": 2,
   "id": "cf63866b",
   "metadata": {},
   "outputs": [],
   "source": [
    "import numpy as np\n",
    "import pandas as pd\n",
    "import matplotlib.pyplot as plt\n",
    "import seaborn as sns"
   ]
  },
  {
   "cell_type": "code",
   "execution_count": null,
   "id": "efd69b23",
   "metadata": {},
   "outputs": [],
   "source": [
    "def get_age_visual(train):\n",
    "    '''\n",
    "    Actions: gets plot with the age density of those who had a stroke and those who did not have a stroke\n",
    "    Modules:\n",
    "        1. import seaborn as sns\n",
    "        2. import matplotlib.pyplot as plt\n",
    "    '''\n",
    "    \n",
    "    # getting two dataframes, one with only people who had a stroke a \n",
    "    no_stroke = train[train['stroke'] != 1]\n",
    "    \n",
    "    stroke = train[train['stroke'] == 1]\n",
    "    \n",
    "\n",
    "    # plotting both distibutions on the same figure\n",
    "    fig = sns.kdeplot(stroke['age'], shade=True, color = \"r\", label = 'Stroke')\n",
    "    fig = sns.kdeplot(no_stroke['age'], shade=True, color=\"b\", label = 'No Stroke')\n",
    "    plt.xlabel('Age')\n",
    "    plt.title('Stroke Risk Higher with Age')\n",
    "    plt.legend(loc='upper left')\n",
    "    plt.show()\n",
    "    \n",
    "    return"
   ]
  }
 ],
 "metadata": {
  "kernelspec": {
   "display_name": "Python 3 (ipykernel)",
   "language": "python",
   "name": "python3"
  },
  "language_info": {
   "codemirror_mode": {
    "name": "ipython",
    "version": 3
   },
   "file_extension": ".py",
   "mimetype": "text/x-python",
   "name": "python",
   "nbconvert_exporter": "python",
   "pygments_lexer": "ipython3",
   "version": "3.9.13"
  }
 },
 "nbformat": 4,
 "nbformat_minor": 5
}
