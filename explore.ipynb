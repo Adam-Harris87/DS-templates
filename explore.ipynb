{
 "cells": [
  {
   "cell_type": "markdown",
   "id": "57653cd3",
   "metadata": {},
   "source": [
    "<a id=\"TableOfContents\"></a>\n",
    "    <h1 style='text-align: center'>\n",
    "        <b>\n",
    "            Table of Contents:\n",
    "        </b></h1>\n",
    "<li><a href='#imports'>Imports</a></li>\n",
    "<li><a href=\"#summarize\">Summarize</a></li>\n",
    "<li><a href='#univariate'>Univariate</a></li>\n",
    "<li><a href=\"#bivariate\">Bivariate</a></li>\n",
    "<li><a href='#multivariate'>Multivariate</a></li>\n",
    "<li><a href=\"#stats_tests\">Hypothesis Tests</a></li>\n",
    "<li><a href=\"#clustering\">Clustering</a></li>\n",
    "<li><a href='#time_series'>Time Series</a></li>\n",
    "<li><a href='#anomaly_detection'>Anomaly Detection</a></li>"
   ]
  },
  {
   "cell_type": "markdown",
   "id": "7b6b300a",
   "metadata": {},
   "source": [
    "<a id=\"imports\"></a>\n",
    "    <h1 style='text-align: center'>\n",
    "        <b>\n",
    "            Imports\n",
    "        </b></h1>\n",
    "<li><a href='#TableOfContents'>Table of Contents</a></li>"
   ]
  },
  {
   "cell_type": "code",
   "execution_count": 2,
   "id": "cf63866b",
   "metadata": {},
   "outputs": [],
   "source": [
    "import numpy as np\n",
    "import pandas as pd\n",
    "import matplotlib.pyplot as plt\n",
    "import seaborn as sns\n",
    "from scipy import stats\n",
    "from sklearn.cluster import KMeans"
   ]
  },
  {
   "cell_type": "code",
   "execution_count": null,
   "id": "efd69b23",
   "metadata": {},
   "outputs": [],
   "source": [
    "def get_age_visual(train):\n",
    "    '''\n",
    "    Actions: gets plot with the age density of those who had a stroke and those who did not have a stroke\n",
    "    Modules:\n",
    "        1. import seaborn as sns\n",
    "        2. import matplotlib.pyplot as plt\n",
    "    '''\n",
    "    \n",
    "    # getting two dataframes, one with only people who had a stroke a \n",
    "    no_stroke = train[train['stroke'] != 1]\n",
    "    \n",
    "    stroke = train[train['stroke'] == 1]\n",
    "    \n",
    "\n",
    "    # plotting both distibutions on the same figure\n",
    "    fig = sns.kdeplot(stroke['age'], shade=True, color = \"r\", label = 'Stroke')\n",
    "    fig = sns.kdeplot(no_stroke['age'], shade=True, color=\"b\", label = 'No Stroke')\n",
    "    plt.xlabel('Age')\n",
    "    plt.title('Stroke Risk Higher with Age')\n",
    "    plt.legend(loc='upper left')\n",
    "    plt.show()\n",
    "    \n",
    "    return"
   ]
  },
  {
   "cell_type": "markdown",
   "id": "2ce53f2b",
   "metadata": {},
   "source": [
    "<a id=\"summarize\"></a>\n",
    "    <h1 style='text-align: center'>\n",
    "        <b>\n",
    "            Summarize\n",
    "        </b></h1>\n",
    "<li><a href='#TableOfContents'>Table of Contents</a></li>"
   ]
  },
  {
   "cell_type": "markdown",
   "id": "a8faba38",
   "metadata": {},
   "source": [
    "<a id=\"univariate\"></a>\n",
    "    <h1 style='text-align: center'>\n",
    "        <b>\n",
    "            Univariate\n",
    "        </b></h1>\n",
    "<li><a href='#TableOfContents'>Table of Contents</a></li>"
   ]
  },
  {
   "cell_type": "code",
   "execution_count": null,
   "id": "d374f8b7",
   "metadata": {},
   "outputs": [],
   "source": [
    "cols = df.columns.to_list()\n",
    "plt.figure(figsize=(20,20))\n",
    "for i, col in enumerate(cols):\n",
    "    # our plot numbers start at 1\n",
    "    plot_number = i+1\n",
    "    plt.subplot(2, round(len(cols) /2) +1, plot_number)\n",
    "    plt.title(f'Distribution of {col}')\n",
    "    df[col].hist(bins=10)\n",
    "    plt.grid(False)\n",
    "plt.show()"
   ]
  },
  {
   "cell_type": "code",
   "execution_count": null,
   "id": "b7af4717",
   "metadata": {},
   "outputs": [],
   "source": [
    "plt.figure(figsize=(20,10))\n",
    "for i, col in enumerate(box_cols):\n",
    "    # our plot numbers start at 1\n",
    "    plot_number = i+1\n",
    "    plt.subplot(2, round(len(cols) /2), plot_number)\n",
    "    plt.title(f'Distribution of {col}')\n",
    "    plt.grid(False)\n",
    "    sns.boxplot(data=df[col])\n",
    "plt.show()"
   ]
  },
  {
   "cell_type": "markdown",
   "id": "dab7175e",
   "metadata": {},
   "source": [
    "<a id=\"bivariate\"></a>\n",
    "    <h1 style='text-align: center'>\n",
    "        <b>\n",
    "            Bivariate\n",
    "        </b></h1>\n",
    "<li><a href='#TableOfContents'>Table of Contents</a></li>"
   ]
  },
  {
   "cell_type": "code",
   "execution_count": null,
   "id": "b5b8a54e",
   "metadata": {},
   "outputs": [],
   "source": [
    "def get_corr_heatmap(train):\n",
    "    '''\n",
    "    This function will display a heatmap of the potential correlations between variables in \n",
    "    our dataset\n",
    "    '''\n",
    "    # get the correlation values\n",
    "    corr_matrix = train.corr()\n",
    "    # create a plot\n",
    "    plt.figure(figsize=(10,10))\n",
    "    # plot a heatmap of the correlations\n",
    "    sns.heatmap(corr_matrix, annot=True, cmap='coolwarm')\n",
    "    # add a title\n",
    "    plt.title('Heat Map of Correlation')\n",
    "    # display the plot\n",
    "    plt.show()"
   ]
  },
  {
   "cell_type": "code",
   "execution_count": null,
   "id": "21ee702e",
   "metadata": {},
   "outputs": [],
   "source": [
    "def get_pairplot(df):\n",
    "    '''\n",
    "    This function will take in a dataFrame, and will display a pairplot of the variable\n",
    "    relationships along with a regression line for each pair\n",
    "    '''\n",
    "    # take a sample of the dataFrame in order to cut down computing time\n",
    "    plt.figure(figsize=(20,20))\n",
    "    if len(df) > 500:\n",
    "        sample = df.sample(500)\n",
    "    else:\n",
    "        sample = df\n",
    "    # create a pairplot\n",
    "    sns.pairplot(data=sample, corner=True, kind='reg', plot_kws={'color': 'blue'})\n",
    "    \n",
    "    plt.show()"
   ]
  },
  {
   "cell_type": "markdown",
   "id": "1a36f18f",
   "metadata": {},
   "source": [
    "<a id=\"multivariate\"></a>\n",
    "    <h1 style='text-align: center'>\n",
    "        <b>\n",
    "            Multivariate\n",
    "        </b></h1>\n",
    "<li><a href='#TableOfContents'>Table of Contents</a></li>"
   ]
  },
  {
   "cell_type": "code",
   "execution_count": null,
   "id": "850f31c0",
   "metadata": {},
   "outputs": [],
   "source": [
    "def get_plots_multivar_scatter_by_target(train, target):\n",
    "    for x_col in train.drop(columns=target).columns:\n",
    "        for y_col in train.drop(columns=[target, x_col]).columns:\n",
    "            sns.scatterplot(data=train.sample(500), x=x_col, y=y_col, \n",
    "                        hue=target, palette='magma')\n",
    "            plt.show()"
   ]
  },
  {
   "cell_type": "code",
   "execution_count": null,
   "id": "e43cbb78",
   "metadata": {},
   "outputs": [],
   "source": []
  },
  {
   "cell_type": "code",
   "execution_count": null,
   "id": "639241fd",
   "metadata": {},
   "outputs": [],
   "source": []
  },
  {
   "cell_type": "markdown",
   "id": "548b5b38",
   "metadata": {},
   "source": [
    "<a id=\"stats_tests\"></a>\n",
    "    <h1 style='text-align: center'>\n",
    "        <b>\n",
    "            Hypothesis Testing\n",
    "        </b></h1>\n",
    "<li><a href='#TableOfContents'>Table of Contents</a></li>"
   ]
  },
  {
   "cell_type": "code",
   "execution_count": null,
   "id": "56c944fb",
   "metadata": {},
   "outputs": [],
   "source": [
    "def check_hypothesis_correlation(data, x, y, α=0.05, test=stats.pearsonr):\n",
    "    '''\n",
    "    This function will check the provided x and y variables from the \n",
    "    provided dataset (data) for statistical correlation according \n",
    "    to a pearsonsr test (this is changable by entering the desired test as a kwarg)\n",
    "    '''\n",
    "    # run the requested statistical test on variables x and y from data\n",
    "    r, p = test(data[x], data[y])\n",
    "    # if the resulting p-value is less than alpha, then reject the null hypothesis\n",
    "    if p < α:\n",
    "        # print results rejecting null hypothesis\n",
    "        print(f\"Since the p-value is less than {α}, \\n\\\n",
    "we can reject the null hypothesis and conclude that {x} and {y} are correlated.\")\n",
    "        print(f\"The correlation coefficient between \\\n",
    "{x} and {y} is {r:.2f} with a p-value of {p:.4f}\")\n",
    "        print('_______________________________________________________')\n",
    "    # if p-value >= alpha, then we fail to reject the null hypothesis\n",
    "    else:\n",
    "        # print the results failing to reject the null hypothesis\n",
    "        print(f\"Since the p-value is greater than or equal to {α}, \\n\\\n",
    "we fail to reject the null hypothesis and conclude \\n\\\n",
    "that there is insufficient evidence to suggest a correlation between {x} and {y}.\")\n",
    "        print('_______________________________________________________')"
   ]
  },
  {
   "cell_type": "markdown",
   "id": "47fd33a0",
   "metadata": {},
   "source": [
    "<a id=\"clustering\"></a>\n",
    "    <h1 style='text-align: center'>\n",
    "        <b>\n",
    "            Clustering\n",
    "        </b></h1>\n",
    "<li><a href='#TableOfContents'>Table of Contents</a></li>"
   ]
  },
  {
   "cell_type": "code",
   "execution_count": null,
   "id": "ff868942",
   "metadata": {},
   "outputs": [],
   "source": [
    "def best_kmeans(data,k_max):\n",
    "    '''\n",
    "    EXAMPLE USEAGE:\n",
    "    data = scaled_train[['alcohol', 'quality']]\n",
    "    best_kmeans(data,k_max=10)\n",
    "    \n",
    "    This function will produce an elbow graph with clusters\n",
    "    '''\n",
    "    # create empty list variables to store results\n",
    "    means = []\n",
    "    inertia = []\n",
    "    # cycle through our desired amount of k's\n",
    "    for k in range(1, k_max):\n",
    "        # create a KMeans object with current k\n",
    "        kmeans = KMeans(n_clusters=k)\n",
    "        # fit the kmeans object to our data\n",
    "        kmeans.fit(data)\n",
    "        # store the kmeans object in our means list\n",
    "        means.append(k)\n",
    "        # store the inertia for current k in the inertia list\n",
    "        inertia.append(kmeans.inertia_)\n",
    "        # create a figure\n",
    "        fig =plt.subplots(figsize=(10,5))\n",
    "        # plot the current k and inertia\n",
    "        plt.plot(means,inertia, 'o-')\n",
    "        # add axis labels\n",
    "        plt.xlabel('means')\n",
    "        plt.ylabel('inertia')\n",
    "        # remove gridlines\n",
    "        plt.grid(True)\n",
    "        # display the plot\n",
    "    plt.show()"
   ]
  },
  {
   "cell_type": "markdown",
   "id": "3bfeaf07",
   "metadata": {},
   "source": [
    "Create clusters"
   ]
  },
  {
   "cell_type": "code",
   "execution_count": null,
   "id": "7d9f31f9",
   "metadata": {},
   "outputs": [],
   "source": [
    "def apply_kmeans(df, k):\n",
    "    '''\n",
    "    This function will create a clusters based on the given variables and df\n",
    "    '''\n",
    "    # create a kmeans object with k clusters\n",
    "    kmeans = KMeans(n_clusters=k)\n",
    "    # fit the kmeans object on our df\n",
    "    kmeans.fit(df)\n",
    "    # store the clustered df as a new column\n",
    "    df[f'k_means_{k}'] = kmeans.labels_\n",
    "    # return the modified dataframe\n",
    "    return df"
   ]
  },
  {
   "cell_type": "markdown",
   "id": "2114eef1",
   "metadata": {},
   "source": [
    "<a id=\"time_series\"></a>\n",
    "    <h1 style='text-align: center'>\n",
    "        <b>\n",
    "            Time Series Analysis\n",
    "        </b></h1>\n",
    "<li><a href='#TableOfContents'>Table of Contents</a></li>"
   ]
  },
  {
   "cell_type": "markdown",
   "id": "f55ba1ed",
   "metadata": {},
   "source": [
    "<a id=\"anomaly_detection\"></a>\n",
    "    <h1 style='text-align: center'>\n",
    "        <b>\n",
    "            Anomaly Detection\n",
    "        </b></h1>\n",
    "<li><a href='#TableOfContents'>Table of Contents</a></li>"
   ]
  },
  {
   "cell_type": "code",
   "execution_count": null,
   "id": "f10cc05c",
   "metadata": {},
   "outputs": [],
   "source": []
  }
 ],
 "metadata": {
  "kernelspec": {
   "display_name": "Python 3 (ipykernel)",
   "language": "python",
   "name": "python3"
  },
  "language_info": {
   "codemirror_mode": {
    "name": "ipython",
    "version": 3
   },
   "file_extension": ".py",
   "mimetype": "text/x-python",
   "name": "python",
   "nbconvert_exporter": "python",
   "pygments_lexer": "ipython3",
   "version": "3.9.13"
  }
 },
 "nbformat": 4,
 "nbformat_minor": 5
}
