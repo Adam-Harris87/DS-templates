{
 "cells": [
  {
   "cell_type": "code",
   "execution_count": 2,
   "id": "cf63866b",
   "metadata": {},
   "outputs": [],
   "source": [
    "import numpy as np\n",
    "import pandas as pd\n",
    "import matplotlib.pyplot as plt\n",
    "import seaborn as sns\n",
    "from scipy import stats"
   ]
  },
  {
   "cell_type": "code",
   "execution_count": null,
   "id": "efd69b23",
   "metadata": {},
   "outputs": [],
   "source": [
    "def get_age_visual(train):\n",
    "    '''\n",
    "    Actions: gets plot with the age density of those who had a stroke and those who did not have a stroke\n",
    "    Modules:\n",
    "        1. import seaborn as sns\n",
    "        2. import matplotlib.pyplot as plt\n",
    "    '''\n",
    "    \n",
    "    # getting two dataframes, one with only people who had a stroke a \n",
    "    no_stroke = train[train['stroke'] != 1]\n",
    "    \n",
    "    stroke = train[train['stroke'] == 1]\n",
    "    \n",
    "\n",
    "    # plotting both distibutions on the same figure\n",
    "    fig = sns.kdeplot(stroke['age'], shade=True, color = \"r\", label = 'Stroke')\n",
    "    fig = sns.kdeplot(no_stroke['age'], shade=True, color=\"b\", label = 'No Stroke')\n",
    "    plt.xlabel('Age')\n",
    "    plt.title('Stroke Risk Higher with Age')\n",
    "    plt.legend(loc='upper left')\n",
    "    plt.show()\n",
    "    \n",
    "    return"
   ]
  },
  {
   "cell_type": "code",
   "execution_count": null,
   "id": "56c944fb",
   "metadata": {},
   "outputs": [],
   "source": [
    "def check_correlation_hypothesis(data, x, y, α=0.05, test=stats.pearsonr):\n",
    "    '''\n",
    "    This function will check the provided x and y variables from the \n",
    "    provided dataset (data) for statistical relevence according \n",
    "    to a pearsonsr test (this is changable by entering the desired test as a kwarg)\n",
    "    '''\n",
    "    # run the requested statistical test on variables x and y from data\n",
    "    r, p = test(data[x], data[y])\n",
    "    # if the resulting p-value is less than alpha, then reject the null hypothesis\n",
    "    if p < α:\n",
    "        # print results rejecting null hypothesis\n",
    "        print(f\"Since the p-value is less than {α}, \\n\\\n",
    "we can reject the null hypothesis and conclude that {x} and {y} are correlated.\")\n",
    "        print(f\"The correlation coefficient between \\\n",
    "{x} and {y} is {r:.2f} with a p-value of {p:.4f}\")\n",
    "        print('_______________________________________________________')\n",
    "    # if p-value >= alpha, then we fail to reject the null hypothesis\n",
    "    else:\n",
    "        # print the results failing to reject the null hypothesis\n",
    "        print(f\"Since the p-value is greater than or equal to {α}, \\n\\\n",
    "we fail to reject the null hypothesis and conclude \\n\\\n",
    "that there is insufficient evidence to suggest a correlation between {x} and {y}.\")\n",
    "        print('_______________________________________________________')"
   ]
  }
 ],
 "metadata": {
  "kernelspec": {
   "display_name": "Python 3 (ipykernel)",
   "language": "python",
   "name": "python3"
  },
  "language_info": {
   "codemirror_mode": {
    "name": "ipython",
    "version": 3
   },
   "file_extension": ".py",
   "mimetype": "text/x-python",
   "name": "python",
   "nbconvert_exporter": "python",
   "pygments_lexer": "ipython3",
   "version": "3.9.13"
  }
 },
 "nbformat": 4,
 "nbformat_minor": 5
}
